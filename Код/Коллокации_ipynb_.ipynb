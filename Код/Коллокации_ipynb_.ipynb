{
  "nbformat": 4,
  "nbformat_minor": 0,
  "metadata": {
    "colab": {
      "provenance": []
    },
    "kernelspec": {
      "name": "python3",
      "display_name": "Python 3"
    },
    "language_info": {
      "name": "python"
    }
  },
  "cells": [
    {
      "cell_type": "code",
      "execution_count": null,
      "metadata": {
        "id": "T-uGqWhvwxMl"
      },
      "outputs": [],
      "source": [
        "import pandas as pd"
      ]
    },
    {
      "cell_type": "code",
      "source": [
        "import re"
      ],
      "metadata": {
        "id": "tOsKJ_5KGlgL"
      },
      "execution_count": null,
      "outputs": []
    },
    {
      "cell_type": "code",
      "source": [
        "pip install openpyxl==3.0.7"
      ],
      "metadata": {
        "colab": {
          "base_uri": "https://localhost:8080/"
        },
        "id": "eHF-gWTF_sR6",
        "outputId": "0847f7be-ab97-48bd-fcff-33b1fefba111"
      },
      "execution_count": null,
      "outputs": [
        {
          "output_type": "stream",
          "name": "stdout",
          "text": [
            "Looking in indexes: https://pypi.org/simple, https://us-python.pkg.dev/colab-wheels/public/simple/\n",
            "Collecting openpyxl==3.0.7\n",
            "  Downloading openpyxl-3.0.7-py2.py3-none-any.whl (243 kB)\n",
            "\u001b[2K     \u001b[90m━━━━━━━━━━━━━━━━━━━━━━━━━━━━━━━━━━━━━━━\u001b[0m \u001b[32m243.2/243.2 kB\u001b[0m \u001b[31m7.5 MB/s\u001b[0m eta \u001b[36m0:00:00\u001b[0m\n",
            "\u001b[?25hRequirement already satisfied: et-xmlfile in /usr/local/lib/python3.10/dist-packages (from openpyxl==3.0.7) (1.1.0)\n",
            "Installing collected packages: openpyxl\n",
            "  Attempting uninstall: openpyxl\n",
            "    Found existing installation: openpyxl 3.0.10\n",
            "    Uninstalling openpyxl-3.0.10:\n",
            "      Successfully uninstalled openpyxl-3.0.10\n",
            "Successfully installed openpyxl-3.0.7\n"
          ]
        }
      ]
    },
    {
      "cell_type": "code",
      "source": [
        "import openpyxl"
      ],
      "metadata": {
        "id": "94dAUeZz_tXL"
      },
      "execution_count": null,
      "outputs": []
    },
    {
      "cell_type": "code",
      "source": [
        "!pip install pymorphy2"
      ],
      "metadata": {
        "colab": {
          "base_uri": "https://localhost:8080/"
        },
        "id": "01j19-iYHwd4",
        "outputId": "c217cff0-ca7c-44f4-af46-9d4e0a0b2977"
      },
      "execution_count": null,
      "outputs": [
        {
          "output_type": "stream",
          "name": "stdout",
          "text": [
            "Looking in indexes: https://pypi.org/simple, https://us-python.pkg.dev/colab-wheels/public/simple/\n",
            "Collecting pymorphy2\n",
            "  Downloading pymorphy2-0.9.1-py3-none-any.whl (55 kB)\n",
            "\u001b[2K     \u001b[90m━━━━━━━━━━━━━━━━━━━━━━━━━━━━━━━━━━━━━━━━\u001b[0m \u001b[32m55.5/55.5 kB\u001b[0m \u001b[31m3.9 MB/s\u001b[0m eta \u001b[36m0:00:00\u001b[0m\n",
            "\u001b[?25hCollecting dawg-python>=0.7.1 (from pymorphy2)\n",
            "  Downloading DAWG_Python-0.7.2-py2.py3-none-any.whl (11 kB)\n",
            "Collecting pymorphy2-dicts-ru<3.0,>=2.4 (from pymorphy2)\n",
            "  Downloading pymorphy2_dicts_ru-2.4.417127.4579844-py2.py3-none-any.whl (8.2 MB)\n",
            "\u001b[2K     \u001b[90m━━━━━━━━━━━━━━━━━━━━━━━━━━━━━━━━━━━━━━━━\u001b[0m \u001b[32m8.2/8.2 MB\u001b[0m \u001b[31m52.5 MB/s\u001b[0m eta \u001b[36m0:00:00\u001b[0m\n",
            "\u001b[?25hCollecting docopt>=0.6 (from pymorphy2)\n",
            "  Downloading docopt-0.6.2.tar.gz (25 kB)\n",
            "  Preparing metadata (setup.py) ... \u001b[?25l\u001b[?25hdone\n",
            "Building wheels for collected packages: docopt\n",
            "  Building wheel for docopt (setup.py) ... \u001b[?25l\u001b[?25hdone\n",
            "  Created wheel for docopt: filename=docopt-0.6.2-py2.py3-none-any.whl size=13707 sha256=0eb83ed48d4f68009604c52a28f1c250a86aad60b312e8051143a9ac1fd0f2ed\n",
            "  Stored in directory: /root/.cache/pip/wheels/fc/ab/d4/5da2067ac95b36618c629a5f93f809425700506f72c9732fac\n",
            "Successfully built docopt\n",
            "Installing collected packages: pymorphy2-dicts-ru, docopt, dawg-python, pymorphy2\n",
            "Successfully installed dawg-python-0.7.2 docopt-0.6.2 pymorphy2-0.9.1 pymorphy2-dicts-ru-2.4.417127.4579844\n"
          ]
        }
      ]
    },
    {
      "cell_type": "code",
      "source": [
        "from pymorphy2 import MorphAnalyzer\n",
        "morph = MorphAnalyzer()"
      ],
      "metadata": {
        "id": "LL2feOnfHyo6"
      },
      "execution_count": null,
      "outputs": []
    },
    {
      "cell_type": "code",
      "source": [
        "with open ('perestroika.txt') as myfile:\n",
        "  text = myfile.read()"
      ],
      "metadata": {
        "id": "UltEhyxsF5oh"
      },
      "execution_count": null,
      "outputs": []
    },
    {
      "cell_type": "code",
      "source": [
        "text = re.sub(r'\\W', ' ', text)\n",
        "text = text.lower()"
      ],
      "metadata": {
        "id": "eQexZFmDGnIx"
      },
      "execution_count": null,
      "outputs": []
    },
    {
      "cell_type": "code",
      "source": [
        "text[:1000]"
      ],
      "metadata": {
        "colab": {
          "base_uri": "https://localhost:8080/",
          "height": 218
        },
        "id": "xyBYSVxZHhD3",
        "outputId": "1d38b690-c4ab-4b71-fb61-c39b4d329083"
      },
      "execution_count": null,
      "outputs": [
        {
          "output_type": "execute_result",
          "data": {
            "text/plain": [
              "'   аэлита     открой     это я     открой сейчас же     ей      а рядом ты     охотин  я умираю     царапай меня  царапай     ты с плешивой рожей     а рядом      летняя куропатка     это же  это же смертельный номер     ведь люди на улице будут подыхать     со смеху  охотин     ой я не могу     это же я сейчас умру     животик надорвёшь     ну открой немедленно     так я и разбежалась     ты что  охотин  меня между прочим     не каждый день бросают  мне для такого дела     немножко приукраситься надо     понимаешь  в порядок себя привести     я может     ради такого случая     вообще хотела на себя     джинсы вельветовые надеть     жаль не влезаю     царапай меня  царапай     на завтра будет меня на работе     на солнце лощить     и нажать     охотин  у тебя же печень     тебе же     диетические обеды надо готовить     ой я не могу  я умираю     хорошо что я брюки не надела     в них смеяться нельзя     охотин     охотин  я это раньше  когда к тебе на свидание шла     за мной собаки с'"
            ],
            "application/vnd.google.colaboratory.intrinsic+json": {
              "type": "string"
            }
          },
          "metadata": {},
          "execution_count": 14
        }
      ]
    },
    {
      "cell_type": "code",
      "source": [
        "text_list = text.split()"
      ],
      "metadata": {
        "id": "vPMUt9R5GBTX"
      },
      "execution_count": null,
      "outputs": []
    },
    {
      "cell_type": "code",
      "source": [
        "len(text_list)"
      ],
      "metadata": {
        "colab": {
          "base_uri": "https://localhost:8080/"
        },
        "id": "0jJH0Y45IJfJ",
        "outputId": "b265ded5-051b-4529-9d93-3ff725f7f64e"
      },
      "execution_count": null,
      "outputs": [
        {
          "output_type": "execute_result",
          "data": {
            "text/plain": [
              "8187288"
            ]
          },
          "metadata": {},
          "execution_count": 16
        }
      ]
    },
    {
      "cell_type": "code",
      "source": [
        "words = pd.read_excel('data_for_collocations.xlsx')"
      ],
      "metadata": {
        "id": "X4-AVaGXAQVH"
      },
      "execution_count": null,
      "outputs": []
    },
    {
      "cell_type": "code",
      "source": [
        "words_list = words['Слово'].to_list()"
      ],
      "metadata": {
        "id": "rni5L0EvA1Ls"
      },
      "execution_count": null,
      "outputs": []
    },
    {
      "cell_type": "code",
      "source": [
        "words_list"
      ],
      "metadata": {
        "colab": {
          "base_uri": "https://localhost:8080/"
        },
        "id": "QdWpcqbVF4Kf",
        "outputId": "2f6f95a3-0095-4654-97fe-df974f2f9cf5"
      },
      "execution_count": null,
      "outputs": [
        {
          "output_type": "execute_result",
          "data": {
            "text/plain": [
              "['право',\n",
              " 'возможность',\n",
              " 'закон',\n",
              " 'судьба',\n",
              " 'гражданин',\n",
              " 'личность',\n",
              " 'зарплата',\n",
              " 'искусство',\n",
              " 'автор',\n",
              " 'культура',\n",
              " 'музыка',\n",
              " 'музей',\n",
              " 'памятник',\n",
              " 'фестиваль',\n",
              " 'рукопись',\n",
              " 'архитектор',\n",
              " 'реставрация',\n",
              " 'искусствовед',\n",
              " 'художница',\n",
              " 'неграмотность',\n",
              " 'убийца',\n",
              " 'интеллектуал',\n",
              " 'капитал',\n",
              " 'страхование',\n",
              " 'оптимизм',\n",
              " 'репутация',\n",
              " 'законопроект',\n",
              " 'индекс',\n",
              " 'коррупция',\n",
              " 'модернизация',\n",
              " 'динамика',\n",
              " 'цензура',\n",
              " 'импульс',\n",
              " 'абсурд',\n",
              " 'амбиция',\n",
              " 'фантастика',\n",
              " 'фракция',\n",
              " 'инвалидность',\n",
              " 'предназначение',\n",
              " 'деградация',\n",
              " 'кредитование',\n",
              " 'квота',\n",
              " 'либерализация',\n",
              " 'распродажа',\n",
              " 'партнёрство',\n",
              " 'прецедент',\n",
              " 'экстремизм',\n",
              " 'либерализм',\n",
              " 'вакансия',\n",
              " 'метаморфоза',\n",
              " 'трансформация',\n",
              " 'популяция',\n",
              " 'лояльность',\n",
              " 'менеджмент',\n",
              " 'девальвация',\n",
              " 'табу',\n",
              " 'авиакатастрофа',\n",
              " 'генофонд',\n",
              " 'коммерциализация',\n",
              " 'автокатастрофа',\n",
              " 'госсобственность',\n",
              " 'соввласть',\n",
              " 'популизм',\n",
              " 'телешоу',\n",
              " 'амбициозность',\n",
              " 'антиутопия',\n",
              " 'двоевластие',\n",
              " 'раскрепощённость',\n",
              " 'реформация',\n",
              " 'сводничество',\n",
              " 'спонсорство',\n",
              " 'адюльтер',\n",
              " 'гиперинфляция',\n",
              " 'депутатство',\n",
              " 'коррумпированность',\n",
              " 'легкомысленность',\n",
              " 'телемарафон',\n",
              " 'госконтроль',\n",
              " 'дегуманизация',\n",
              " 'контрреволюционность']"
            ]
          },
          "metadata": {},
          "execution_count": 11
        }
      ]
    },
    {
      "cell_type": "code",
      "source": [
        "pairs = []\n",
        "\n",
        "for i in range(len(text_list)-1):\n",
        "  if morph.parse(text_list[i])[0].tag.POS == 'NOUN':\n",
        "    if morph.parse(text_list[i])[0].normal_form in words_list:\n",
        "      if len(text_list[i+1]) > 2:\n",
        "        pair = text_list[i-1] + ' ' + text_list[i] + ' ' + text_list[i+1]\n",
        "        pairs.append(pair)"
      ],
      "metadata": {
        "id": "wQcBZ6WcRrAf"
      },
      "execution_count": null,
      "outputs": []
    },
    {
      "cell_type": "code",
      "source": [
        "pairs_data = pd.Series(pairs)"
      ],
      "metadata": {
        "id": "wBqz_T-IfIyh"
      },
      "execution_count": null,
      "outputs": []
    },
    {
      "cell_type": "code",
      "source": [
        "pairs_data"
      ],
      "metadata": {
        "colab": {
          "base_uri": "https://localhost:8080/"
        },
        "id": "4chDtqjbTDBt",
        "outputId": "c65518e0-4fde-40b0-e9de-35f84a34e115"
      },
      "execution_count": null,
      "outputs": [
        {
          "output_type": "execute_result",
          "data": {
            "text/plain": [
              "0            канский фестиваль вообразили\n",
              "1                       не судьба давайте\n",
              "2                     один гражданин меня\n",
              "3                этот гражданин именуемый\n",
              "4             аферист гражданин начальник\n",
              "                       ...               \n",
              "21355    литературы искусства архитектуры\n",
              "21356        солдаты фестиваль солдатской\n",
              "21357                  05 фестиваль индии\n",
              "21358                    20 музей усадьба\n",
              "21359                    мы граждане твои\n",
              "Length: 21360, dtype: object"
            ]
          },
          "metadata": {},
          "execution_count": 19
        }
      ]
    },
    {
      "cell_type": "code",
      "source": [
        "pairs_data_final = pairs_data.drop_duplicates()"
      ],
      "metadata": {
        "id": "EZRYu4VhTUYC"
      },
      "execution_count": null,
      "outputs": []
    },
    {
      "cell_type": "code",
      "source": [
        "pairs_data_final"
      ],
      "metadata": {
        "colab": {
          "base_uri": "https://localhost:8080/"
        },
        "id": "nk1Sbl0dTdcK",
        "outputId": "69ea7f8e-331b-4e2f-88c4-db43f79898f2"
      },
      "execution_count": null,
      "outputs": [
        {
          "output_type": "execute_result",
          "data": {
            "text/plain": [
              "0        канский фестиваль вообразили\n",
              "1                   не судьба давайте\n",
              "2                 один гражданин меня\n",
              "3            этот гражданин именуемый\n",
              "4         аферист гражданин начальник\n",
              "                     ...             \n",
              "21353       кремлевских музеев откуда\n",
              "21354     атакующие возможности белых\n",
              "21357              05 фестиваль индии\n",
              "21358                20 музей усадьба\n",
              "21359                мы граждане твои\n",
              "Length: 19808, dtype: object"
            ]
          },
          "metadata": {},
          "execution_count": 21
        }
      ]
    },
    {
      "cell_type": "code",
      "source": [
        "pairs_data_final.to_excel('коллокации_сущ.xlsx')"
      ],
      "metadata": {
        "id": "_cpvF_CEXv5I"
      },
      "execution_count": null,
      "outputs": []
    }
  ]
}